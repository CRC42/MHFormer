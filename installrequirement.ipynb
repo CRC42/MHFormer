{
 "cells": [
  {
   "cell_type": "markdown",
   "source": [
    "## 查看python版本"
   ],
   "metadata": {
    "collapsed": false,
    "pycharm": {
     "name": "#%% md\n"
    }
   },
   "execution_count": 8
  },
  {
   "cell_type": "code",
   "execution_count": 1,
   "outputs": [
    {
     "name": "stdout",
     "output_type": "stream",
     "text": [
      "3.7.15 (default, Nov  9 2022, 10:44:37) [MSC v.1916 64 bit (AMD64)]\n",
      "C:\\Users\\Cren\\anaconda3\\envs\\py37\\python.exe\n"
     ]
    }
   ],
   "source": [
    "import sys\n",
    "print(sys.version)\n",
    "print(sys.executable)"
   ],
   "metadata": {
    "collapsed": false,
    "pycharm": {
     "name": "#%%\n"
    }
   }
  },
  {
   "cell_type": "markdown",
   "source": [
    "## 安装pytorch"
   ],
   "metadata": {
    "collapsed": false,
    "pycharm": {
     "name": "#%% md\n"
    }
   }
  },
  {
   "cell_type": "code",
   "execution_count": 2,
   "outputs": [
    {
     "name": "stdout",
     "output_type": "stream",
     "text": [
      "Looking in links: https://download.pytorch.org/whl/torch_stable.html\n",
      "Requirement already satisfied: torch==1.7.1+cu110 in c:\\users\\cren\\anaconda3\\envs\\py37\\lib\\site-packages (1.7.1+cu110)\n",
      "Requirement already satisfied: torchvision==0.8.2+cu110 in c:\\users\\cren\\anaconda3\\envs\\py37\\lib\\site-packages (0.8.2+cu110)\n",
      "Requirement already satisfied: numpy in c:\\users\\cren\\anaconda3\\envs\\py37\\lib\\site-packages (from torch==1.7.1+cu110) (1.21.6)\n",
      "Requirement already satisfied: typing-extensions in c:\\users\\cren\\anaconda3\\envs\\py37\\lib\\site-packages (from torch==1.7.1+cu110) (4.4.0)\n",
      "Requirement already satisfied: pillow>=4.1.1 in c:\\users\\cren\\anaconda3\\envs\\py37\\lib\\site-packages (from torchvision==0.8.2+cu110) (9.3.0)\n"
     ]
    }
   ],
   "source": [
    "!pip3 install torch==1.7.1+cu110 torchvision==0.8.2+cu110 -f https://download.pytorch.org/whl/torch_stable.html"
   ],
   "metadata": {
    "collapsed": false,
    "pycharm": {
     "name": "#%%\n"
    }
   }
  },
  {
   "cell_type": "markdown",
   "source": [
    "## 验证torch和cuda："
   ],
   "metadata": {
    "collapsed": false,
    "pycharm": {
     "name": "#%% md\n"
    }
   }
  },
  {
   "cell_type": "code",
   "execution_count": 3,
   "outputs": [
    {
     "name": "stdout",
     "output_type": "stream",
     "text": [
      "True\n",
      "11.0\n",
      "1\n",
      "_CudaDeviceProperties(name='NVIDIA GeForce RTX 2060', major=7, minor=5, total_memory=6143MB, multi_processor_count=30)\n"
     ]
    }
   ],
   "source": [
    "import torch\n",
    "print(torch.cuda.is_available())\n",
    "print(torch.version.cuda)\n",
    "print(torch.cuda.device_count())\n",
    "print(torch.cuda.get_device_properties(\"cuda:0\"))"
   ],
   "metadata": {
    "collapsed": false,
    "pycharm": {
     "name": "#%%\n"
    }
   }
  },
  {
   "cell_type": "markdown",
   "source": [
    "## 安装其他依赖："
   ],
   "metadata": {
    "collapsed": false,
    "pycharm": {
     "name": "#%% md\n"
    }
   }
  },
  {
   "cell_type": "code",
   "execution_count": 4,
   "outputs": [
    {
     "name": "stdout",
     "output_type": "stream",
     "text": [
      "Collecting opencv-python\n",
      "  Downloading opencv_python-4.6.0.66-cp36-abi3-win_amd64.whl (35.6 MB)\n",
      "     ---------------------------------------- 35.6/35.6 MB 3.5 MB/s eta 0:00:00\n",
      "Collecting tqdm\n",
      "  Downloading tqdm-4.64.1-py2.py3-none-any.whl (78 kB)\n",
      "     ---------------------------------------- 78.5/78.5 kB 4.3 MB/s eta 0:00:00\n",
      "Collecting yacs\n",
      "  Downloading yacs-0.1.8-py3-none-any.whl (14 kB)\n",
      "Collecting numba\n",
      "  Downloading numba-0.56.4-cp37-cp37m-win_amd64.whl (2.5 MB)\n",
      "     ---------------------------------------- 2.5/2.5 MB 3.8 MB/s eta 0:00:00\n",
      "Collecting scikit-image\n",
      "  Downloading scikit_image-0.19.3-cp37-cp37m-win_amd64.whl (12.1 MB)\n",
      "     ---------------------------------------- 12.1/12.1 MB 4.0 MB/s eta 0:00:00\n",
      "Collecting filterpy\n",
      "  Downloading filterpy-1.4.5.zip (177 kB)\n",
      "     -------------------------------------- 178.0/178.0 kB 3.6 MB/s eta 0:00:00\n",
      "  Preparing metadata (setup.py): started\n",
      "  Preparing metadata (setup.py): finished with status 'done'\n",
      "Requirement already satisfied: ipython in c:\\users\\cren\\anaconda3\\envs\\py37\\lib\\site-packages (from -r requirements.txt (line 7)) (7.31.1)\n",
      "Collecting einops\n",
      "  Downloading einops-0.6.0-py3-none-any.whl (41 kB)\n",
      "     ---------------------------------------- 41.6/41.6 kB 2.1 MB/s eta 0:00:00\n",
      "Collecting timm==0.4.5\n",
      "  Downloading timm-0.4.5-py3-none-any.whl (287 kB)\n",
      "     -------------------------------------- 287.4/287.4 kB 3.6 MB/s eta 0:00:00\n",
      "Collecting matplotlib==2.2.2\n",
      "  Downloading matplotlib-2.2.2-cp37-cp37m-win_amd64.whl (8.7 MB)\n",
      "     ---------------------------------------- 8.7/8.7 MB 4.3 MB/s eta 0:00:00\n",
      "Requirement already satisfied: torch>=1.4 in c:\\users\\cren\\anaconda3\\envs\\py37\\lib\\site-packages (from timm==0.4.5->-r requirements.txt (line 9)) (1.7.1+cu110)\n",
      "Requirement already satisfied: torchvision in c:\\users\\cren\\anaconda3\\envs\\py37\\lib\\site-packages (from timm==0.4.5->-r requirements.txt (line 9)) (0.8.2+cu110)\n",
      "Collecting kiwisolver>=1.0.1\n",
      "  Using cached kiwisolver-1.4.4-cp37-cp37m-win_amd64.whl (54 kB)\n",
      "Requirement already satisfied: pyparsing!=2.0.4,!=2.1.2,!=2.1.6,>=2.0.1 in c:\\users\\cren\\anaconda3\\envs\\py37\\lib\\site-packages (from matplotlib==2.2.2->-r requirements.txt (line 10)) (3.0.9)\n",
      "Requirement already satisfied: numpy>=1.7.1 in c:\\users\\cren\\anaconda3\\envs\\py37\\lib\\site-packages (from matplotlib==2.2.2->-r requirements.txt (line 10)) (1.21.6)\n",
      "Requirement already satisfied: python-dateutil>=2.1 in c:\\users\\cren\\anaconda3\\envs\\py37\\lib\\site-packages (from matplotlib==2.2.2->-r requirements.txt (line 10)) (2.8.2)\n",
      "Requirement already satisfied: six>=1.10 in c:\\users\\cren\\anaconda3\\envs\\py37\\lib\\site-packages (from matplotlib==2.2.2->-r requirements.txt (line 10)) (1.16.0)\n",
      "Requirement already satisfied: pytz in c:\\users\\cren\\anaconda3\\envs\\py37\\lib\\site-packages (from matplotlib==2.2.2->-r requirements.txt (line 10)) (2022.1)\n",
      "Collecting cycler>=0.10\n",
      "  Using cached cycler-0.11.0-py3-none-any.whl (6.4 kB)\n",
      "Requirement already satisfied: colorama in c:\\users\\cren\\anaconda3\\envs\\py37\\lib\\site-packages (from tqdm->-r requirements.txt (line 2)) (0.4.5)\n",
      "Collecting PyYAML\n",
      "  Downloading PyYAML-6.0-cp37-cp37m-win_amd64.whl (153 kB)\n",
      "     -------------------------------------- 153.2/153.2 kB 4.6 MB/s eta 0:00:00\n",
      "Collecting llvmlite<0.40,>=0.39.0dev0\n",
      "  Downloading llvmlite-0.39.1-cp37-cp37m-win_amd64.whl (23.2 MB)\n",
      "     ---------------------------------------- 23.2/23.2 MB 3.1 MB/s eta 0:00:00\n",
      "Requirement already satisfied: setuptools in c:\\users\\cren\\anaconda3\\envs\\py37\\lib\\site-packages (from numba->-r requirements.txt (line 4)) (65.5.0)\n",
      "Requirement already satisfied: importlib-metadata in c:\\users\\cren\\anaconda3\\envs\\py37\\lib\\site-packages (from numba->-r requirements.txt (line 4)) (4.11.3)\n",
      "Collecting tifffile>=2019.7.26\n",
      "  Downloading tifffile-2021.11.2-py3-none-any.whl (178 kB)\n",
      "     -------------------------------------- 178.9/178.9 kB 3.6 MB/s eta 0:00:00\n",
      "Collecting scipy>=1.4.1\n",
      "  Using cached scipy-1.7.3-cp37-cp37m-win_amd64.whl (34.1 MB)\n",
      "Collecting imageio>=2.4.1\n",
      "  Downloading imageio-2.22.4-py3-none-any.whl (3.4 MB)\n",
      "     ---------------------------------------- 3.4/3.4 MB 3.5 MB/s eta 0:00:00\n",
      "Collecting networkx>=2.2\n",
      "  Downloading networkx-2.6.3-py3-none-any.whl (1.9 MB)\n",
      "     ---------------------------------------- 1.9/1.9 MB 3.4 MB/s eta 0:00:00\n",
      "Requirement already satisfied: pillow!=7.1.0,!=7.1.1,!=8.3.0,>=6.1.0 in c:\\users\\cren\\anaconda3\\envs\\py37\\lib\\site-packages (from scikit-image->-r requirements.txt (line 5)) (9.3.0)\n",
      "Collecting PyWavelets>=1.1.1\n",
      "  Downloading PyWavelets-1.3.0-cp37-cp37m-win_amd64.whl (4.2 MB)\n",
      "     ---------------------------------------- 4.2/4.2 MB 4.1 MB/s eta 0:00:00\n",
      "Requirement already satisfied: packaging>=20.0 in c:\\users\\cren\\anaconda3\\envs\\py37\\lib\\site-packages (from scikit-image->-r requirements.txt (line 5)) (21.3)\n",
      "Requirement already satisfied: prompt-toolkit!=3.0.0,!=3.0.1,<3.1.0,>=2.0.0 in c:\\users\\cren\\anaconda3\\envs\\py37\\lib\\site-packages (from ipython->-r requirements.txt (line 7)) (3.0.20)\n",
      "Requirement already satisfied: traitlets>=4.2 in c:\\users\\cren\\anaconda3\\envs\\py37\\lib\\site-packages (from ipython->-r requirements.txt (line 7)) (5.1.1)\n",
      "Requirement already satisfied: pygments in c:\\users\\cren\\anaconda3\\envs\\py37\\lib\\site-packages (from ipython->-r requirements.txt (line 7)) (2.11.2)\n",
      "Requirement already satisfied: backcall in c:\\users\\cren\\anaconda3\\envs\\py37\\lib\\site-packages (from ipython->-r requirements.txt (line 7)) (0.2.0)\n",
      "Requirement already satisfied: matplotlib-inline in c:\\users\\cren\\anaconda3\\envs\\py37\\lib\\site-packages (from ipython->-r requirements.txt (line 7)) (0.1.6)\n",
      "Requirement already satisfied: jedi>=0.16 in c:\\users\\cren\\anaconda3\\envs\\py37\\lib\\site-packages (from ipython->-r requirements.txt (line 7)) (0.18.1)\n",
      "Requirement already satisfied: decorator in c:\\users\\cren\\anaconda3\\envs\\py37\\lib\\site-packages (from ipython->-r requirements.txt (line 7)) (5.1.1)\n",
      "Requirement already satisfied: pickleshare in c:\\users\\cren\\anaconda3\\envs\\py37\\lib\\site-packages (from ipython->-r requirements.txt (line 7)) (0.7.5)\n",
      "Requirement already satisfied: parso<0.9.0,>=0.8.0 in c:\\users\\cren\\anaconda3\\envs\\py37\\lib\\site-packages (from jedi>=0.16->ipython->-r requirements.txt (line 7)) (0.8.3)\n",
      "Requirement already satisfied: typing-extensions in c:\\users\\cren\\anaconda3\\envs\\py37\\lib\\site-packages (from kiwisolver>=1.0.1->matplotlib==2.2.2->-r requirements.txt (line 10)) (4.4.0)\n",
      "Requirement already satisfied: wcwidth in c:\\users\\cren\\anaconda3\\envs\\py37\\lib\\site-packages (from prompt-toolkit!=3.0.0,!=3.0.1,<3.1.0,>=2.0.0->ipython->-r requirements.txt (line 7)) (0.2.5)\n",
      "Requirement already satisfied: zipp>=0.5 in c:\\users\\cren\\anaconda3\\envs\\py37\\lib\\site-packages (from importlib-metadata->numba->-r requirements.txt (line 4)) (3.8.0)\n",
      "Building wheels for collected packages: filterpy\n",
      "  Building wheel for filterpy (setup.py): started\n",
      "  Building wheel for filterpy (setup.py): finished with status 'done'\n",
      "  Created wheel for filterpy: filename=filterpy-1.4.5-py3-none-any.whl size=110458 sha256=43263ca76cfb3de1c23c2655a96da9bc1b3e70cf2eec46e70ed97c447691b5e9\n",
      "  Stored in directory: c:\\users\\cren\\appdata\\local\\pip\\cache\\wheels\\ce\\e0\\ee\\a2b3c5caab3418c1ccd8c4de573d4cbe13315d7e8b0a55fbc2\n",
      "Successfully built filterpy\n",
      "Installing collected packages: tqdm, tifffile, scipy, PyYAML, PyWavelets, opencv-python, networkx, llvmlite, kiwisolver, imageio, einops, cycler, yacs, scikit-image, numba, matplotlib, timm, filterpy\n",
      "Successfully installed PyWavelets-1.3.0 PyYAML-6.0 cycler-0.11.0 einops-0.6.0 filterpy-1.4.5 imageio-2.22.4 kiwisolver-1.4.4 llvmlite-0.39.1 matplotlib-2.2.2 networkx-2.6.3 numba-0.56.4 opencv-python-4.6.0.66 scikit-image-0.19.3 scipy-1.7.3 tifffile-2021.11.2 timm-0.4.5 tqdm-4.64.1 yacs-0.1.8\n"
     ]
    }
   ],
   "source": [
    "!pip3 install -r requirements.txt"
   ],
   "metadata": {
    "collapsed": false,
    "pycharm": {
     "name": "#%%\n"
    }
   }
  },
  {
   "cell_type": "code",
   "execution_count": null,
   "outputs": [],
   "source": [],
   "metadata": {
    "collapsed": false,
    "pycharm": {
     "name": "#%%\n"
    }
   }
  }
 ],
 "metadata": {
  "kernelspec": {
   "display_name": "Python 3",
   "language": "python",
   "name": "python3"
  },
  "language_info": {
   "codemirror_mode": {
    "name": "ipython",
    "version": 2
   },
   "file_extension": ".py",
   "mimetype": "text/x-python",
   "name": "python",
   "nbconvert_exporter": "python",
   "pygments_lexer": "ipython2",
   "version": "2.7.6"
  }
 },
 "nbformat": 4,
 "nbformat_minor": 0
}